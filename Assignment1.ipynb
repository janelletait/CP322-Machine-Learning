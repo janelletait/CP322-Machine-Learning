{
 "cells": [
  {
   "cell_type": "markdown",
   "metadata": {},
   "source": [
    "# <center> Assignment 1 </center>\n",
    "\n",
    "#### Name: Janelle Tait\n",
    "\n",
    "#### Student ID: 180447860\n",
    "\n",
    "### You are given a list of target values of a binary classification problem, and 2 lists of corresponding predicted scores from 2 models (Model_1 and Model_2). Please evaluate the preformance of the models in the following aspects. You are allowed to use python machine learning packages, such as sklearn."
   ]
  },
  {
   "cell_type": "code",
   "execution_count": 1,
   "metadata": {},
   "outputs": [],
   "source": [
    "### Read the target values and predicted scores into lists\n",
    "import matplotlib.pyplot as plt\n",
    "import numpy as np\n",
    "import sklearn.metrics\n",
    "from sklearn import metrics\n",
    "from sklearn.metrics import confusion_matrix\n",
    "import sklearn.metrics as metrics\n",
    "\n",
    "def read_from_file(filename):\n",
    "    file = open(filename, \"r\") \n",
    "    s = file.read()\n",
    "    lines = s.split('\\n')\n",
    "    return [float(x) for x in lines]\n",
    "\n",
    "target = read_from_file('target.csv')\n",
    "pred_1 = read_from_file('pred_model1.csv')\n",
    "pred_2 = read_from_file('pred_model2.csv')\n"
   ]
  },
  {
   "cell_type": "markdown",
   "metadata": {},
   "source": [
    "### Question 1. Assume the target level 1 is positive, and 0 is negative. Given a threshold 0.2, show the confusion matrix for each model."
   ]
  },
  {
   "cell_type": "code",
   "execution_count": 2,
   "metadata": {},
   "outputs": [
    {
     "name": "stdout",
     "output_type": "stream",
     "text": [
      "confusion matrix for model 1:\n",
      "\n",
      "[[1617   76]\n",
      " [ 208  764]]\n",
      "\n",
      "confusion matrix for model 2:\n",
      "\n",
      "[[1285  408]\n",
      " [ 163  809]]\n",
      "\n",
      "Please note these confusion matrices are arranged like:\n",
      "[[true negatives, false positives]\n",
      "[false negatives, true positives]]\n"
     ]
    }
   ],
   "source": [
    "#first convert predictions to either 1 or 0\n",
    "#then call confusion matrix function for each model\n",
    "\n",
    "\n",
    "pred_1_adj = []\n",
    "pred_2_adj = []\n",
    "\n",
    "for i in range(len(pred_1)):\n",
    "    if pred_1[i] >= 0.2:\n",
    "        pred_1_adj.append(1)\n",
    "        \n",
    "    else:\n",
    "        pred_1_adj.append(0)\n",
    "        \n",
    "for i in range(len(pred_2)):\n",
    "    if pred_2[i] >= 0.2:\n",
    "        pred_2_adj.append(1)\n",
    "        \n",
    "    else:\n",
    "        pred_2_adj.append(0)\n",
    "        \n",
    "matrix_1 = confusion_matrix(target, pred_1_adj)\n",
    "matrix_2 = confusion_matrix(target, pred_2_adj)\n",
    "\n",
    "print(\"confusion matrix for model 1:\\n\")\n",
    "print(matrix_1)\n",
    "print()\n",
    "print(\"confusion matrix for model 2:\\n\")\n",
    "print(matrix_2)\n",
    "\n",
    "print('\\nPlease note these confusion matrices are arranged like:\\n[[true negatives, false positives]\\n[false negatives, true positives]]')\n"
   ]
  },
  {
   "cell_type": "markdown",
   "metadata": {},
   "source": [
    "### Question 2. For each model, what are the following values? TPR, FPR, TNR, FNR, Precision, Recall, F1-measure."
   ]
  },
  {
   "cell_type": "code",
   "execution_count": 3,
   "metadata": {},
   "outputs": [
    {
     "name": "stdout",
     "output_type": "stream",
     "text": [
      "Values for model 1:\n",
      "# true negatives =  1617\n",
      "# false positives =  76\n",
      "# false negatives =  208\n",
      "# true positives =  764\n",
      "TPR =  0.7860082304526749\n",
      "FPR =  0.0448907265209687\n",
      "TNR =  0.9551092734790313\n",
      "FNR =  0.2139917695473251\n",
      "Precision =  0.9095238095238095\n",
      "Recall =  0.7860082304526749\n",
      "F-1 Measure =  0.8432671081677704\n",
      "\n",
      "Values for model 2:\n",
      "# true negatives =  1285\n",
      "# false positives =  408\n",
      "# false negatives =  163\n",
      "# true positives =  809\n",
      "TPR =  0.8323045267489712\n",
      "FPR =  0.2409923213230951\n",
      "TNR =  0.7590076786769049\n",
      "FNR =  0.16769547325102882\n",
      "Precision =  0.6647493837304848\n",
      "Recall =  0.8323045267489712\n",
      "F-1 Measure =  0.7391502969392415\n"
     ]
    }
   ],
   "source": [
    "tn1, fp1, fn1, tp1 = confusion_matrix(target, pred_1_adj).ravel()\n",
    "tpr1 = tp1/(tp1+fn1)\n",
    "fpr1 = fp1/(fp1+tn1)\n",
    "tnr1 = tn1/(tn1+fp1)\n",
    "fnr1 = fn1/(fn1+tp1)\n",
    "\n",
    "precision1 = tp1/(tp1+fp1)\n",
    "recall1 = tp1/(tp1+fn1)\n",
    "F1_measure1 = 2*((recall1 * precision1)/(recall1 + precision1))\n",
    "\n",
    "print(\"Values for model 1:\")\n",
    "print(\"# true negatives = \", (tn1))\n",
    "print(\"# false positives = \", (fp1))\n",
    "print(\"# false negatives = \", (fn1))\n",
    "print(\"# true positives = \", (tp1))\n",
    "print(\"TPR = \", (tpr1))\n",
    "print(\"FPR = \", (fpr1))\n",
    "print(\"TNR = \", (tnr1))\n",
    "print(\"FNR = \", (fnr1))\n",
    "print(\"Precision = \", (precision1))\n",
    "print(\"Recall = \", (recall1))\n",
    "print(\"F-1 Measure = \", (F1_measure1))\n",
    "\n",
    "print()\n",
    "\n",
    "tn2, fp2, fn2, tp2 = confusion_matrix(target, pred_2_adj).ravel()\n",
    "tpr2 = tp2/(tp2+fn2)\n",
    "fpr2 = fp2/(fp2+tn2)\n",
    "tnr2 = tn2/(tn2+fp2)\n",
    "fnr2 = fn2/(fn2+tp2)\n",
    "\n",
    "precision2 = tp2/(tp2+fp2)\n",
    "recall2 = tp2/(tp2+fn2)\n",
    "F1_measure2 = 2*((recall2 * precision2)/(recall2 + precision2))\n",
    "\n",
    "print(\"Values for model 2:\")\n",
    "print(\"# true negatives = \", (tn2))\n",
    "print(\"# false positives = \", (fp2))\n",
    "print(\"# false negatives = \", (fn2))\n",
    "print(\"# true positives = \", (tp2))\n",
    "print(\"TPR = \", (tpr2))\n",
    "print(\"FPR = \", (fpr2))\n",
    "print(\"TNR = \", (tnr2))\n",
    "print(\"FNR = \", (fnr2))\n",
    "print(\"Precision = \", (precision2))\n",
    "print(\"Recall = \", (recall2))\n",
    "print(\"F-1 Measure = \", (F1_measure2))\n",
    "\n"
   ]
  },
  {
   "cell_type": "markdown",
   "metadata": {},
   "source": [
    "### Question 3. Draw ROC curves of the two models. "
   ]
  },
  {
   "cell_type": "code",
   "execution_count": 4,
   "metadata": {},
   "outputs": [
    {
     "name": "stdout",
     "output_type": "stream",
     "text": [
      "Model 1:\n",
      "\n"
     ]
    },
    {
     "data": {
      "image/png": "[encoded data removed]",
      "text/plain": [
       "<Figure size 432x288 with 1 Axes>"
      ]
     },
     "metadata": {
      "needs_background": "light"
     },
     "output_type": "display_data"
    },
    {
     "name": "stdout",
     "output_type": "stream",
     "text": [
      "Model 2:\n",
      "\n"
     ]
    },
    {
     "data": {
      "image/png": "[encoded data removed]",
      "text/plain": [
       "<Figure size 432x288 with 1 Axes>"
      ]
     },
     "metadata": {
      "needs_background": "light"
     },
     "output_type": "display_data"
    }
   ],
   "source": [
    "print(\"Model 1:\\n\")\n",
    "fpr, tpr, thresholds = metrics.roc_curve(target, pred_1_adj)\n",
    "display = metrics.RocCurveDisplay(fpr=fpr, tpr=tpr)\n",
    "display.plot()\n",
    "plt.show()\n",
    "\n",
    "print(\"Model 2:\\n\")\n",
    "fpr, tpr, thresholds = metrics.roc_curve(target, pred_2_adj)\n",
    "display = metrics.RocCurveDisplay(fpr=fpr, tpr=tpr)\n",
    "display.plot()\n",
    "plt.show()\n",
    "\n",
    "\n"
   ]
  },
  {
   "cell_type": "markdown",
   "metadata": {},
   "source": [
    "### Question 4. For each model, what is the value of the ROC Index? Which model has better performance according to ROC Index? "
   ]
  },
  {
   "cell_type": "code",
   "execution_count": 5,
   "metadata": {},
   "outputs": [
    {
     "name": "stdout",
     "output_type": "stream",
     "text": [
      "Model 1 ROC Index =  0.8705587519658532\n",
      "Model 2 ROC Index =  0.7956561027129381\n",
      "Since model 1 has a higher ROC Index, it has better performance than model 2.\n"
     ]
    }
   ],
   "source": [
    "fpr, tpr, thresholds = metrics.roc_curve(target, pred_1_adj)\n",
    "roc_auc1 = metrics.auc(fpr, tpr)\n",
    "print(\"Model 1 ROC Index = \", roc_auc1)\n",
    "\n",
    "fpr, tpr, thresholds = metrics.roc_curve(target, pred_2_adj)\n",
    "roc_auc2 = metrics.auc(fpr, tpr)\n",
    "print(\"Model 2 ROC Index = \", roc_auc2)\n",
    "\n",
    "print(\"Since model 1 has a higher ROC Index, it has better performance than model 2.\")\n"
   ]
  }
 ],
 "metadata": {
  "kernelspec": {
   "display_name": "Python 3 (ipykernel)",
   "language": "python",
   "name": "python3"
  },
  "language_info": {
   "codemirror_mode": {
    "name": "ipython",
    "version": 3
   },
   "file_extension": ".py",
   "mimetype": "text/x-python",
   "name": "python",
   "nbconvert_exporter": "python",
   "pygments_lexer": "ipython3",
   "version": "3.9.6"
  }
 },
 "nbformat": 4,
 "nbformat_minor": 2
}
